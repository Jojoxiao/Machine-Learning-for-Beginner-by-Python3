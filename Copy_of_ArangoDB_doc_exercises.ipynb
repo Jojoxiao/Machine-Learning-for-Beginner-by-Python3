{
  "nbformat": 4,
  "nbformat_minor": 0,
  "metadata": {
    "colab": {
      "name": "Copy of ArangoDB_doc_exercises.ipynb",
      "private_outputs": true,
      "provenance": [],
      "collapsed_sections": [],
      "include_colab_link": true
    },
    "kernelspec": {
      "name": "python3",
      "display_name": "Python 3"
    }
  },
  "cells": [
    {
      "cell_type": "markdown",
      "metadata": {
        "id": "view-in-github",
        "colab_type": "text"
      },
      "source": [
        "<a href=\"https://colab.research.google.com/github/Jojoxiao/Machine-Learning-for-Beginner-by-Python3/blob/master/Copy_of_ArangoDB_doc_exercises.ipynb\" target=\"_parent\"><img src=\"https://colab.research.google.com/assets/colab-badge.svg\" alt=\"Open In Colab\"/></a>"
      ]
    },
    {
      "cell_type": "markdown",
      "metadata": {
        "id": "_qEt5kxUxa_d"
      },
      "source": [
        "# ArangoDB exercises for Data Management course at UHasselt / KU Leuven\n",
        "This interactive notebook contains the exercises for key/value stores and document databases for the Data Management course at UHasselt / KU Leuven.\n",
        "\n",
        "## **Instructions**\n",
        "- In this session, we will use a server that we have running at UHasselt, at http://35.187.27.74:8529/\n",
        "- To run the exercises in this notebook, go through the cells one-by-one using the play button at the left of the cell, or by pressing Shift-Enter.\n",
        "- **IMPORTANT: for each exercise**:\n",
        "  - Try to get the correct AQL query in your own ArangoDB instance (on http://localhost:8529). Get it working there first!\n",
        "  - When you have the correct output, copy/paste your query into this notebook to replace the `WRITE AQL QUERY HERE`.\n",
        "  - On the spreadsheet, indicate that you finished the exercise.\n"
      ]
    },
    {
      "cell_type": "markdown",
      "metadata": {
        "id": "uZ8qX9cExvRT"
      },
      "source": [
        "## Setup"
      ]
    },
    {
      "cell_type": "code",
      "metadata": {
        "id": "xZrlnN2Dxu5p"
      },
      "source": [
        "!pip install python-arango"
      ],
      "execution_count": null,
      "outputs": []
    },
    {
      "cell_type": "code",
      "metadata": {
        "id": "LCX_5Iqexyxe"
      },
      "source": [
        "from arango import ArangoClient"
      ],
      "execution_count": null,
      "outputs": []
    },
    {
      "cell_type": "code",
      "metadata": {
        "id": "qoARPkB4x1Nl"
      },
      "source": [
        "client = ArangoClient(hosts='http://35.187.27.74:8529/')"
      ],
      "execution_count": null,
      "outputs": []
    },
    {
      "cell_type": "code",
      "metadata": {
        "id": "1_Kr292px3kv"
      },
      "source": [
        "db = client.db(\"DATMNG-flights\", username=\"exercise_user\", password=\"a4sDgLGAZ3ApLXubac\")"
      ],
      "execution_count": null,
      "outputs": []
    },
    {
      "cell_type": "code",
      "metadata": {
        "id": "qc1AVC3r070S"
      },
      "source": [
        "db.collections()"
      ],
      "execution_count": null,
      "outputs": []
    },
    {
      "cell_type": "markdown",
      "metadata": {
        "id": "ozLgZ2lZrMj3"
      },
      "source": [
        "## Section 1: Loading data\n",
        "Follow the directions at https://vda-lab.be/data-management/nosql-arangodb-loading-data.html to create the `airports` and `flights` collections. This data contains flights for the first 15 days of 2008."
      ]
    },
    {
      "cell_type": "markdown",
      "metadata": {
        "id": "qR_BzpuOpuNT"
      },
      "source": [
        "### Exercise 1.1: Check if data is loaded correctly\n",
        "\n",
        "- If you click on `Collections` and then `airports`, the number of records in that collection is shown in the bottom right. You should have 3,375 records.\n",
        "- Idem for `flights`. You should have 286,463 records.\n",
        "\n",
        "If you did not get the numbers above, delete the collections and try again.\n"
      ]
    },
    {
      "cell_type": "markdown",
      "metadata": {
        "id": "mOn9W4enrGiL"
      },
      "source": [
        "## Section 2: ArangoDB as key/value store"
      ]
    },
    {
      "cell_type": "markdown",
      "metadata": {
        "id": "mGjjY852yV7Q"
      },
      "source": [
        "### Exercise 2.1: Get the airport with the key `JFK`\n",
        "The output you're looking for in the ArangoDB web interface is this:\n",
        "```json\n",
        "[ { \"_key\": \"JFK\", \"_id\": \"airports/JFK\", \"_rev\": \"_ZbpOKyK-Aa\",\n",
        "    \"name\": \"John F Kennedy Intl\",\n",
        "    \"city\": \"New York\", \"state\": \"NY\", \"country\": \"USA\",\n",
        "    \"lat\": 40.63975111, \"long\": -73.77892556,\n",
        "    \"vip\": true } ]\n",
        "```"
      ]
    },
    {
      "cell_type": "code",
      "metadata": {
        "id": "MhLm7Yg9yKhU"
      },
      "source": [
        "### CODE BLOCK\n",
        "cursor = db.aql.execute(\"\"\"\n",
        " WRITE YOUR AQL QUERY HERE\n",
        "\"\"\")\n",
        "results = [doc for doc in cursor]\n",
        "\n",
        "assert len(results) == 1\n",
        "assert results[0]['lat'] == 40.63975111"
      ],
      "execution_count": null,
      "outputs": []
    },
    {
      "cell_type": "markdown",
      "metadata": {
        "id": "fW4wpPuczkCc"
      },
      "source": [
        "### Exercise 2.2: Get the airports with keys `AFN` and `AKO`\n",
        "The output you're looking for the in ArangoDB web interface is this:\n",
        "```json\n",
        "[ { \"_key\": \"AFN\", \"_id\": \"airports/AFN\", \"_rev\": \"_ZbpOKxW-_C\",\n",
        "    \"name\": \"Jaffrey Municipal Silver Ranch\",\n",
        "    \"city\": \"Jaffrey\", \"state\": \"NH\", \"country\": \"USA\",\n",
        "    \"lat\": 42.80513417, \"long\": -72.00302194,\n",
        "    \"vip\": false },\n",
        "  { \"_key\": \"AKO\", \"_id\": \"airports/AKO\", \"_rev\": \"_ZbpOKxW-AA\",\n",
        "    \"name\": \"Akron-Washington Co\",\n",
        "    \"city\": \"Akron\", \"state\": \"CO\", \"country\": \"USA\",\n",
        "    \"lat\": 40.17563333, \"long\": -103.2220278,\n",
        "    \"vip\": false } ]\n",
        "```"
      ]
    },
    {
      "cell_type": "code",
      "metadata": {
        "id": "VouIIJ-_zHU1"
      },
      "source": [
        "### CODE BLOCK\n",
        "cursor = db.aql.execute(\"\"\"\n",
        "  WRITE YOUR AQL QUERY HERE\n",
        "\"\"\")\n",
        "results = [doc for doc in cursor]\n",
        "\n",
        "assert sorted(list(map(lambda x:x['city'], results[0]))) == ['Akron','Jaffrey']"
      ],
      "execution_count": null,
      "outputs": []
    },
    {
      "cell_type": "markdown",
      "metadata": {
        "id": "jWU9AtMb15Su"
      },
      "source": [
        "## Section 3: ArangoDB as a document database"
      ]
    },
    {
      "cell_type": "markdown",
      "metadata": {
        "id": "bSQQgFxl3HSK"
      },
      "source": [
        "### Exercise 3.1: Get all airports\n",
        "\n",
        "The output you're looking for looks like this (you might see different ones if the data is sorted differently):\n",
        "\n",
        "| _key | _id | _rev | name | city | state | country | lat | long | vip |\n",
        "|--|--|--|--|--|--|--|--|--|--|\n",
        "| 00M | airports/00M | _ZbpOKwy--- | Thigpen | Bay Springs | MS | USA | 31.95376472 | -89.23450472 | false |\n",
        "| 00R | airports/00R | _ZbpOKwy-- | A\tLivingston Municipal | Livingston | TX | USA | 30.68586111 | -95.01792778 | false |\n",
        "| 00V | airports/00V | _ZbpOKwy--C | Meadow Lake | Colorado Springs | CO | USA | 38.94574889 | -104.5698933 | false |\n",
        "| ... | ... | ... | ... | ... | ... | ... | ... | ... | ... |\n",
        "\n"
      ]
    },
    {
      "cell_type": "code",
      "metadata": {
        "id": "ofOcezU40-Qt"
      },
      "source": [
        "### CODE BLOCK\n",
        "cursor = db.aql.execute(\"\"\"\n",
        "  WRITE YOUR AQL QUERY HERE\n",
        "\"\"\")\n",
        "results = [doc for doc in cursor]\n",
        "\n",
        "assert len(results) == 3375"
      ],
      "execution_count": null,
      "outputs": []
    },
    {
      "cell_type": "markdown",
      "metadata": {
        "id": "y3pKq9mX4zyo"
      },
      "source": [
        "### Exercise 3.2: Get 2 airports\n",
        "The output you're looking for looks like this (you might see different ones if the data is sorted differently):\n",
        "\n",
        "| _key | _id | _rev | name | city | state | country | lat | long | vip |\n",
        "|--|--|--|--|--|--|--|--|--|--|\n",
        "| 00M | airports/00M | _ZbpOKwy--- | Thigpen | Bay Springs | MS | USA | 31.95376472 | -89.23450472 | false |\n",
        "| 00R | airports/00R | _ZbpOKwy-- | A\tLivingston Municipal | Livingston | TX | USA | 30.68586111 | -95.01792778 | false |\n"
      ]
    },
    {
      "cell_type": "code",
      "metadata": {
        "id": "X2bqOwRi5CYT"
      },
      "source": [
        "### CODE BLOCK\n",
        "cursor = db.aql.execute(\"\"\"\n",
        "  WRITE YOUR AQL QUERY HERE\n",
        "\"\"\")\n",
        "results = [doc for doc in cursor]\n",
        "\n",
        "assert len(results) == 2"
      ],
      "execution_count": null,
      "outputs": []
    },
    {
      "cell_type": "markdown",
      "metadata": {
        "id": "nTzBmZgp6yT5"
      },
      "source": [
        "### Exercise 3.3: Get all airports, ordered by latitude\n",
        "The output you're looking for looks like this:\n",
        "\n",
        "|_key | _id | _rev | name | city | state | country | lat | long | vip\n",
        "|--|--|--|--|--|--|--|--|--|--|\n",
        "|ROR | airports/ROR | _bTSyO46--k | Babelthoup/Koror | null | null | Palau | 7.367222 | 134.544167 | false |\n",
        "|YAP | airports/YAP | _bTSyO5S--X | Yap International | null | null | Federated States of Micronesia | 9.5167 | 138.1 | false |\n",
        "|GUM | airports/GUM | _bTSyO4C-AW | Guam International | Agana | GU | USA | 13.48345 | -144.7959825 | false |\n",
        "| ... | ... | ... | ... | ... | ... | ... | ... | ... | ... |\n"
      ]
    },
    {
      "cell_type": "code",
      "metadata": {
        "id": "oaUgHqtK7hDb"
      },
      "source": [
        "### CODE BLOCK\n",
        "cursor = db.aql.execute(\"\"\"\n",
        "  WRITE YOUR AQL QUERY HERE\n",
        "\"\"\")\n",
        "results = [doc for doc in cursor]\n",
        "\n",
        "assert len(results) == 3375\n",
        "assert results[0]['name'] == 'Babelthoup/Koror'"
      ],
      "execution_count": null,
      "outputs": []
    },
    {
      "cell_type": "markdown",
      "metadata": {
        "id": "CnY3lTGB5iwR"
      },
      "source": [
        "### Exercise 3.4: Get only the name for all airports, ordered by latitude\n",
        "The output you're looking for looks like this:\n",
        "\n",
        "| name |\n",
        "|--|\n",
        "| Babelthoup/Koror | \n",
        "| Yap International |\n",
        "| Guam International |\n",
        "| ... |"
      ]
    },
    {
      "cell_type": "code",
      "metadata": {
        "id": "lmVGalXw5HG3"
      },
      "source": [
        "### CODE BLOCK\n",
        "cursor = db.aql.execute(\"\"\"\n",
        "  WRITE YOUR AQL QUERY HERE\n",
        "\"\"\")\n",
        "results = [doc for doc in cursor]\n",
        "assert results[0] == 'Babelthoup/Koror'\n",
        "assert results[10] == 'Saipan International'\n",
        "assert results[-1] == 'Wiley Post Will Rogers Memorial'"
      ],
      "execution_count": null,
      "outputs": []
    },
    {
      "cell_type": "markdown",
      "metadata": {
        "id": "-BMSA3cj8nOA"
      },
      "source": [
        "### Exercise 3.5: Get all airports in Michigan (MI)\n",
        "The output you're looking for will look like this:\n",
        "\n",
        "| _key | _id | _rev | name | city | state | country | lat | long | vip |\n",
        "|--|--|--|--|--|--|--|--|--|--|\n",
        "| 07G | airports/07G | _ZbpOKwy--s | Fitch H Beach | Charlotte | \tMI | USA | 42.57450861 | -84.81143139 | false\n",
        "| 0D1 | airports/0D1 | _ZbpOKw2--O | South Haven Municipal | South Haven | MI | USA | 42.35083333 | -86.25613889 | false\n",
        "| 13C | airports/13C | _ZbpOKw2-AI | Lakeview | Lakeview | MI | USA | 43.45213722 | -85.26480333 | false\n",
        "| ... | ... | ... | ... | ... | ... | ... | ... | ... | ... |"
      ]
    },
    {
      "cell_type": "code",
      "metadata": {
        "id": "lArYeLjh6jFj"
      },
      "source": [
        "### CODE BLOCK\n",
        "cursor = db.aql.execute(\"\"\"\n",
        "  WRITE YOUR AQL QUERY HERE\n",
        "\"\"\")\n",
        "results = [doc for doc in cursor]\n",
        "assert len(results) == 94\n",
        "assert results[5]['state'] == 'MI'"
      ],
      "execution_count": null,
      "outputs": []
    },
    {
      "cell_type": "markdown",
      "metadata": {
        "id": "4gUHn27l9zGV"
      },
      "source": [
        "### Exercise 3.6: Get all airports in Michigan (MI) or New York (NY)\n",
        "The output you're looking for will look like this:\n",
        "\n",
        "| _key | _id | _rev | name | city | state | country | lat | long | vip |\n",
        "|--|--|--|--|--|--|--|--|--|--|\n",
        "| 01G | airports/01G | _ZbpOKwy--E | Perry-Warsaw | Perry | NY | USA | 42.74134667 | -78.05208056 | false |\n",
        "06N | airports/06N | _ZbpOKwy--k | Randall | Middletown | NY | USA | 41.43156583 | -74.39191722 | false |\n",
        "07G | airports/07G | _ZbpOKwy--s | Fitch H Beach | Charlotte | MI | USA | 42.57450861 | -84.81143139 | false |\n",
        "| ... | ... | ... | ... | ... | ... | ... | ... | ... | ... |"
      ]
    },
    {
      "cell_type": "code",
      "metadata": {
        "id": "fZWha3Un9rs2"
      },
      "source": [
        "### CODE BLOCK\n",
        "cursor = db.aql.execute(\"\"\"\n",
        "  WRITE YOUR AQL QUERY HERE\n",
        "\"\"\")\n",
        "results = [doc for doc in cursor]\n",
        "assert len(results) == 191\n",
        "assert results[5]['state'] in ['MI','NY']"
      ],
      "execution_count": null,
      "outputs": []
    },
    {
      "cell_type": "markdown",
      "metadata": {
        "id": "1PRj_Chm-39P"
      },
      "source": [
        "### Exercise 3.7: Get all airports in Texas (TX) that have a VIP lounge\n",
        "This query will return two airports: Amarillo International, and Dallas-Fort Worth International:\n",
        "\n",
        "| _key | _id | _rev | name | city | state | country | lat | long | vip |\n",
        "|--|--|--|--|--|--|--|--|--|--|\n",
        "| AMA | airports/AMA | _bUSntYm--6 | Amarillo International | Amarillo | TX | USA | 35.2193725 | -101.7059272 | true |\n",
        "| DFW | airports/DFW | _bUSntY6-_6 | Dallas-Fort Worth International | Dallas-Fort Worth | TX | USA | 32.89595056 | -97.0372 | true |"
      ]
    },
    {
      "cell_type": "code",
      "metadata": {
        "id": "pgauqLF8-3Jp"
      },
      "source": [
        "### CODE BLOCK\n",
        "cursor = db.aql.execute(\"\"\"\n",
        "  WRITE YOUR AQL QUERY HERE\n",
        "\"\"\")\n",
        "results = [doc for doc in cursor]\n",
        "assert len(results) == 2\n",
        "assert sorted(list(map(lambda x:x['city'], results))) == ['Amarillo','Dallas-Fort Worth']"
      ],
      "execution_count": null,
      "outputs": []
    },
    {
      "cell_type": "markdown",
      "metadata": {
        "id": "xLmTn2EyAbLl"
      },
      "source": [
        "### Exercise 3.8: Idem as exercise 3.7, _without_ using the `AND` keyword"
      ]
    },
    {
      "cell_type": "code",
      "metadata": {
        "id": "VBAOVDq-AZWI"
      },
      "source": [
        "### CODE BLOCK\n",
        "cursor = db.aql.execute(\"\"\"\n",
        "  WRITE YOUR AQL QUERY HERE\n",
        "\"\"\")\n",
        "results = [doc for doc in cursor]\n",
        "assert len(results) == 2\n",
        "assert sorted(list(map(lambda x:x['city'], results))) == ['Amarillo','Dallas-Fort Worth']"
      ],
      "execution_count": null,
      "outputs": []
    },
    {
      "cell_type": "markdown",
      "metadata": {
        "id": "Tw5Cnlb2Hm80"
      },
      "source": [
        "### Exercise 3.9: Find all flights with a distance longer than 500 (km)."
      ]
    },
    {
      "cell_type": "code",
      "metadata": {
        "id": "s7LVwKUxHxJc"
      },
      "source": [
        "cursor = db.aql.execute(\"\"\"\n",
        "    for f in flights\n",
        "    filter f.Distance > 500\n",
        "    return f\n",
        "\"\"\")\n",
        "results = [doc for doc in cursor]\n",
        "\n",
        "assert len(results) == 162880"
      ],
      "execution_count": null,
      "outputs": []
    },
    {
      "cell_type": "markdown",
      "metadata": {
        "id": "xVJQ5CO5ICTZ"
      },
      "source": [
        "## Section 4: Collections"
      ]
    },
    {
      "cell_type": "markdown",
      "metadata": {
        "id": "Uwrb4EPKIEyA"
      },
      "source": [
        "### Exercise 4.1: List all flight carriers without duplication.\n",
        "\n",
        "Try this exercise, once with and once without using the `distinct` keyword."
      ]
    },
    {
      "cell_type": "code",
      "metadata": {
        "id": "NXipv7eCILGa"
      },
      "source": [
        "cursor = db.aql.execute(\"\"\"\n",
        "      WRITE YOUR AQL QUERY HERE\n",
        "\"\"\")\n",
        "results = [doc for doc in cursor]\n",
        "\n",
        "assert len(results) == 20\n",
        "for carrier in ['9E', 'AA', 'AQ', 'AS', 'B6', 'CO', 'DL', 'EV', 'F9', \n",
        "                'FL', 'HA', 'MQ', 'NW', 'OH', 'OO', 'UA', 'US', 'WN', \n",
        "                'XE', 'YV']:\n",
        "  assert carrier in results"
      ],
      "execution_count": null,
      "outputs": []
    },
    {
      "cell_type": "markdown",
      "metadata": {
        "id": "gyOpqxxPIYDu"
      },
      "source": [
        "### Exercise 4.2: How many airports are in the state of Florida (FL)?"
      ]
    },
    {
      "cell_type": "code",
      "metadata": {
        "id": "pL7xY_tBInRP"
      },
      "source": [
        "cursor = db.aql.execute(\"\"\"\n",
        "    WRITE YOUR AQL QUERY HERE\n",
        "\"\"\")\n",
        "results = [doc for doc in cursor]\n",
        "\n",
        "assert len(results) == 1\n",
        "assert results[0] == 100"
      ],
      "execution_count": null,
      "outputs": []
    },
    {
      "cell_type": "markdown",
      "metadata": {
        "id": "onwKj-nGIrRj"
      },
      "source": [
        "### Exercise 4.3: Find the 5 airports with the most departures.\n",
        "Your output should be:\n",
        "\n",
        "| airport | nr_departures |\n",
        "|--|--|\n",
        "| airports/ATL | 15887 |\n",
        "| airports/ORD | 13688 |\n",
        "| airports/DFW | 11381 |\n",
        "| airports/DEN | 9377 |\n",
        "| airports/LAX | 9079 |"
      ]
    },
    {
      "cell_type": "code",
      "metadata": {
        "id": "Fx5R11i-I0ki"
      },
      "source": [
        "### CODE BLOCK\n",
        "cursor = db.aql.execute(\"\"\"\n",
        "  WRITE YOUR AQL QUERY HERE\n",
        "\"\"\")\n",
        "results = [doc for doc in cursor]\n",
        "assert len(results) == 5\n",
        "assert results[0]['airport'] == 'airports/ATL'\n",
        "assert results[-1]['nr_departures'] == 9079"
      ],
      "execution_count": null,
      "outputs": []
    },
    {
      "cell_type": "markdown",
      "metadata": {
        "id": "jEMYK70pJyyx"
      },
      "source": [
        "### Exercise 4.4: How many flights were there each day of the week (i.e. Mondays, Tuesdays, etc)?\n",
        "Your output should be:\n",
        "\n",
        "| day_of_week | nr_flights |\n",
        "|--|--|\n",
        "| 1 | 38821 |\n",
        "| 2 | 56686 |\n",
        "| 3 | 39696 |\n",
        "| 4 | 40233 |\n",
        "| 5 | 39722 |\n",
        "| 6 | 33705 |\n",
        "| 7 | 37600 |"
      ]
    },
    {
      "cell_type": "code",
      "metadata": {
        "id": "0SI9sJoNJ3i_"
      },
      "source": [
        "cursor = db.aql.execute(\"\"\"\n",
        "    WRITE YOUR AQL QUERY HERE\n",
        "\"\"\")\n",
        "results = [doc for doc in cursor]\n",
        "\n",
        "assert len(results) == 7\n",
        "assert results[2]['nr_flights'] == 39696"
      ],
      "execution_count": null,
      "outputs": []
    },
    {
      "cell_type": "markdown",
      "metadata": {
        "id": "HlYdEjiOJVTk"
      },
      "source": [
        "### Exercise 4.5: Which 5 days in the dataset had the highest number of flights?\n",
        "Output should be:\n",
        "\n",
        "| day | month | nr_flights |\n",
        "|--|--|--|\n",
        "| 3 | 1 | 20370 |\n",
        "| 2 | 1 | 20363 |\n",
        "| 4 | 1 | 20006 |\n",
        "| 10 | 1 | 19863 |\n",
        "| 11 | 1 | 19716 |"
      ]
    },
    {
      "cell_type": "code",
      "metadata": {
        "id": "9L7oTvc3Jb9H"
      },
      "source": [
        "cursor = db.aql.execute(\"\"\"\n",
        "    WRITE YOUR AQL QUERY HERE\n",
        "\"\"\")\n",
        "results = [doc for doc in cursor]\n",
        "\n",
        "assert len(results) == 5\n",
        "assert list(map(lambda x: x['day'], results)) == [3,2,4,10,11]\n",
        "assert results[0]['nr_flights'] == 20370"
      ],
      "execution_count": null,
      "outputs": []
    },
    {
      "cell_type": "markdown",
      "metadata": {
        "id": "XY9fLc7bJtUs"
      },
      "source": [
        "### Exercise 4.6: How many flights did each carrier perform?\n",
        "\n",
        "Sort your answer with an increasing number of flights. Output should look like (with this order):\n",
        "\n",
        "| carrier | nr_flights |\n",
        "|--|--|\n",
        "| AQ | 1935 |\n",
        "| HA | 2236 |\n",
        "| F9 | 3760 |\n",
        "| AS | 5993 |\n",
        "| B6 | 8060 |\n",
        "| ... | ... |"
      ]
    },
    {
      "cell_type": "code",
      "metadata": {
        "id": "Jk-xZz8nKOpZ"
      },
      "source": [
        "cursor = db.aql.execute(\"\"\"\n",
        "    WRITE YOUR AQL QUERY HERE\n",
        "\"\"\")\n",
        "results = [doc for doc in cursor]\n",
        "\n",
        "assert len(results) == 20\n",
        "assert results[0]['carrier'] == 'AQ'\n",
        "assert results[0]['num_flights'] == 1935\n",
        "assert results[-1]['carrier'] == 'WN'\n",
        "assert results[-3]['num_flights'] == 22509"
      ],
      "execution_count": null,
      "outputs": []
    },
    {
      "cell_type": "markdown",
      "metadata": {
        "id": "0ScKZfHsMtJN"
      },
      "source": [
        "### Exercise 4.7: List all departure and arrival airports of every carrier.\n",
        "\n",
        "The output should look like this (although the actual lists will be longer):\n",
        "\n",
        "| carrier | departures | arrivals |\n",
        "|--|--|--|\n",
        "| 9E | [\"airports/MEM\",\"airports/GRR\",\"airports/ELM\",...] | [\"airports/AUS\",\"airports/DTW\",\"airports/DTW\",...] |\n",
        "| AA | [\"airports/MIA\",\"airports/SFO\",\"airports/SEA\",...] | [\"airports/TPA\",\"airports/ORD\",\"airports/DFW\",...] |\n",
        "| AS | [\"airports/ANC\",\"airports/ANC\",\"airports/ANC\",...] | [\"airports/SEA\",\"airports/PDX\",\"airports/SEA\",...] |\n",
        "| B6 | [\"airports/JFK\",\"airports/FLL\",\"airports/MCO\",...] | [\"airports/PBI\",\"airports/JFK\",\"airports/SJU\",...] |\n",
        "| ... | ... | ... |"
      ]
    },
    {
      "cell_type": "code",
      "metadata": {
        "id": "bEexh8LIM1US"
      },
      "source": [
        "cursor = db.aql.execute(\"\"\"\n",
        "    \n",
        "\"\"\")\n",
        "results = [doc for doc in cursor]\n",
        "\n",
        "assert len(results) == 20\n",
        "assert 'carrier' in results[0]\n",
        "assert 'arrivals' in results[0]\n",
        "assert 'departures' in results[0]\n",
        "assert isinstance(results[5]['arrivals'], list)\n",
        "assert isinstance(results[5]['departures'], list)"
      ],
      "execution_count": null,
      "outputs": []
    },
    {
      "cell_type": "markdown",
      "metadata": {
        "id": "NCVpod15B47Z"
      },
      "source": [
        "## Section 5: Aggregation\n"
      ]
    },
    {
      "cell_type": "markdown",
      "metadata": {
        "id": "XQH9wnd6CBQ4"
      },
      "source": [
        "Looking at the `flights` collection, you'll see that the same two airports can be connected many times. For example, there are 156 flights between Atlanta, GA (ATL) and Charleston, SC (CHS). These represent different flights at different times during the day and by different carries (as shown in the picture).\n",
        "\n",
        "![flights vs connections](https://vda-lab.github.io/assets/flights-vs-connections.png)\n",
        "\n",
        "This is what a single one of those flights between ATL and CHS looks like:\n",
        "\n",
        "```json\n",
        "{ \"_key\": \"1834\", \"_id\": \"flights/1834\", \"_rev\": \"_ZRp7f-S---\",\n",
        "  \"_from\": \"airports/ATL\", \"_to\": \"airports/CHS\",\n",
        "  \"Year\": 2008, \"Month\": 1, \"Day\": 1, \"DayOfWeek\": 2,\n",
        "  \"DepTime\": 2, \"ArrTime\": 57,\n",
        "  \"DepTimeUTC\": \"2008-01-01T05:02:00.000Z\", \"ArrTimeUTC\": \"2008-01-01T05:57:00.000Z\",\n",
        "  \"UniqueCarrier\": \"FL\", \"FlightNum\": 579, \"TailNum\": \"N937AT\",\n",
        "  \"Distance\": 259 }\n",
        "```\n",
        "\n",
        "Indeed: this is the reason why we see the same airport appearing multiple times in the list of \"departures\" or \"arrivals\" in exercise 4.7. Let's solve that.\n"
      ]
    },
    {
      "cell_type": "markdown",
      "metadata": {
        "id": "5D2N97OYzVtP"
      },
      "source": [
        "### Exercise 5.1: Create an AQL query which returns only a single link between 2 airports. \n",
        "Output should only include `_from`, `_to` and `distance`. (It does not matter which of the flights between the airports is returned, because the output (`from`, `to` and `distance` will be the same anyway.)\n",
        "\n",
        "Your output should look like this:\n",
        "\n",
        "```json\n",
        "{ \"_from\": \"airports/ABE\",\n",
        "  \"_to\": \"airports/ATL\",\n",
        "  \"distance\": 692 },\n",
        "{ \"_from\": \"airports/ABE\",\n",
        "  \"_to\": \"airports/CLE\",\n",
        "  \"distance\": 339 },\n",
        "{ \"_from\": \"airports/ABE\",\n",
        "  \"_to\": \"airports/CLT\",\n",
        "  \"distance\": 481 },\n",
        "...\n",
        "```"
      ]
    },
    {
      "cell_type": "code",
      "metadata": {
        "id": "RLe8MVyQAn0y"
      },
      "source": [
        "### CODE BLOCK\n",
        "cursor = db.aql.execute(\"\"\"\n",
        "  WRITE YOUR AQL ANSWER HERE\n",
        "\"\"\")\n",
        "results = [doc for doc in cursor]\n",
        "assert len(results) == 4587\n",
        "assert sorted(list(map(lambda x:x['distance'], results)))[-1] == 4962"
      ],
      "execution_count": null,
      "outputs": []
    },
    {
      "cell_type": "markdown",
      "metadata": {
        "id": "5YjhyOknCX8b"
      },
      "source": [
        "### Exercise 5.2: Same as exercise 5.1, but include the number of flights between those two airports. Output will look like this:\n",
        "\n",
        "```json\n",
        "{ \"_from\": \"airports/ABE\", \"_to\": \"airports/ATL\",\n",
        "  \"distance\": 692,\n",
        "  \"nrOfFlights\": 37 },\n",
        "{ \"_from\": \"airports/ABE\", \"_to\": \"airports/CLE\",\n",
        "  \"distance\": 339,\n",
        "  \"nrOfFlights\": 38 },\n",
        "{ \"_from\": \"airports/ABE\", \"_to\": \"airports/CLT\",\n",
        "  \"distance\": 481,\n",
        "  \"nrOfFlights\": 14 },\n",
        "...\n",
        "```"
      ]
    },
    {
      "cell_type": "code",
      "metadata": {
        "id": "7RsF-GYzEMzQ"
      },
      "source": [
        "### CODE BLOCK\n",
        "cursor = db.aql.execute(\"\"\"\n",
        "  WRITE YOUR AQL QUERY HERE\n",
        "\"\"\")\n",
        "results = [doc for doc in cursor]\n",
        "assert len(results) == 4587"
      ],
      "execution_count": null,
      "outputs": []
    },
    {
      "cell_type": "markdown",
      "metadata": {
        "id": "DpPHDCJ3_L39"
      },
      "source": [
        "### Exercise 5.3: Create and populate new collection, called \"connections\".\n",
        "This is similar to assignment 2c, but we want to save the output in a new collection called connections (note: \"collection\" vs \"connection\"). In order to do this, perform the following steps:\n",
        "- create a new empty collection (of the \"edge\" type!!) using the web interface (just like you did for the `flights` collection in the beginning)\n",
        "- change your query from assignment 5.2 so that the results are saved in that new collection."
      ]
    },
    {
      "cell_type": "code",
      "metadata": {
        "id": "5sosrwxz_rt3"
      },
      "source": [
        "### CODE BLOCK\n",
        "cursor = db.aql.execute(\"\"\"\n",
        "  WRITE YOUR AQL QUERY HERE\n",
        "\"\"\")\n",
        "assert db.has_collection('connections') and db.collection('connections').count() == 4587"
      ],
      "execution_count": null,
      "outputs": []
    },
    {
      "cell_type": "markdown",
      "metadata": {
        "id": "lULWRncgBoUE"
      },
      "source": [
        "### Exercise 5.4: Number of airports that are directly connected to JFK\n",
        "Return the number of airports that directly connect to JFK. The answer should be 124."
      ]
    },
    {
      "cell_type": "code",
      "metadata": {
        "id": "b7Snq8p5BvpW"
      },
      "source": [
        "### CODE BLOCK\n",
        "cursor = db.aql.execute(\"\"\"\n",
        "  WRITE YOUR AQL QUERY HERE\n",
        "\"\"\")\n",
        "results = [doc for doc in cursor]\n",
        "assert results[0] == 124"
      ],
      "execution_count": null,
      "outputs": []
    },
    {
      "cell_type": "markdown",
      "metadata": {
        "id": "3eyXshBQAjQK"
      },
      "source": [
        "### Exercise 5.5: Average connection length to/from JFK airport\n",
        "Looking at all connections to/from JFK, what is the average length of those flights? Answer should be 1157.27."
      ]
    },
    {
      "cell_type": "code",
      "metadata": {
        "id": "B65Dx_QNAils"
      },
      "source": [
        "### CODE BLOCK\n",
        "cursor = db.aql.execute(\"\"\"\n",
        "  WRITE YOUR AQL QUERY HERE\n",
        "\"\"\")\n",
        "results = [doc for doc in cursor]\n",
        "assert int(results[0]) == 1157"
      ],
      "execution_count": null,
      "outputs": []
    },
    {
      "cell_type": "markdown",
      "metadata": {
        "id": "VkBZjeCpEdii"
      },
      "source": [
        "### Exercise 5.6: When you are at ADK airport, which airports can you reach with exactly one transfer (i.e. in 2 hops)?\n",
        "Your result should be:\n",
        "```\n",
        "[ \"airports/ADK\", \"airports/ADQ\", \"airports/BET\", \"airports/CDV\", \"airports/FAI\", \"airports/HNL\", \"airports/IAH\",\n",
        "  \"airports/JNU\", \"airports/LAS\", \"airports/MSP\", \"airports/OME\", \"airports/ORD\", \"airports/OTZ\", \"airports/PDX\",\n",
        "  \"airports/PHX\", \"airports/SCC\", \"airports/SEA\", \"airports/SLC\"\n",
        "]\n",
        "```"
      ]
    },
    {
      "cell_type": "code",
      "metadata": {
        "id": "EVt0U9s5CvP7"
      },
      "source": [
        "### CODE BLOCK\n",
        "cursor = db.aql.execute(\"\"\"\n",
        "  WRITE YOUR AQL QUERY HERE\n",
        "\"\"\")\n",
        "results = [doc for doc in cursor]\n",
        "assert len(results) == 18\n",
        "assert \"airports/SEA\" in results"
      ],
      "execution_count": null,
      "outputs": []
    },
    {
      "cell_type": "markdown",
      "metadata": {
        "id": "IXq4FXPeRfAv"
      },
      "source": [
        "### Exercise 5.7: Put these airports on the map\n",
        "Change the query from exercise 4.6 so that the 18 resulting airports are shown on a map. Check the `GEO_POINT()` documentation. Your output will look like this:\n",
        "\n",
        "![](http://vda-lab.github.io/assets/airport_2hops_from_ADK.png)"
      ]
    },
    {
      "cell_type": "code",
      "metadata": {
        "id": "NJKO72WCCv_o"
      },
      "source": [
        "### CODE BLOCK\n",
        "cursor = db.aql.execute(\"\"\"\n",
        "  WRITE YOUR AQL QUERY HERE\n",
        "\"\"\")\n",
        "results = [doc for doc in cursor]\n",
        "assert \"coordinates\" in results[0]\n",
        "assert results[0]['type'] == \"Point\""
      ],
      "execution_count": null,
      "outputs": []
    },
    {
      "cell_type": "markdown",
      "metadata": {
        "id": "-9CcyDL8LNq_"
      },
      "source": [
        "### Exercise 5.8: What is the average flight distance per carrier?\n",
        "\n",
        "Sort your answer by increasing distance.\n",
        "\n",
        "| carrier | distance |\n",
        "|--|--|\n",
        "| CO | 1147.7431037264075 |\n",
        "| B6 | 1112.3259305210918 |\n",
        "| UA | 1084.5351908609641 |\n",
        "| ... | ... |"
      ]
    },
    {
      "cell_type": "code",
      "metadata": {
        "id": "Doxrhh4WLaTC"
      },
      "source": [
        "cursor = db.aql.execute(\"\"\"\n",
        "  WRITE YOUR AQL QUERY HERE\n",
        "\"\"\")\n",
        "results = [doc for doc in cursor]\n",
        "\n",
        "assert len(results) == 20\n",
        "assert round(results[0]['distance']) == 1148\n",
        "assert results[5]['carrier'] == 'AS'\n",
        "assert round(results[-1]['distance']) == 399"
      ],
      "execution_count": null,
      "outputs": []
    },
    {
      "cell_type": "markdown",
      "metadata": {
        "id": "DJU7Cz3cLjtR"
      },
      "source": [
        "### Exercise 5.9: List the latest departure time for each airport.\n",
        "\n",
        "Sort your answer by increasing departure time.\n",
        "\n",
        "| airport | departure_time |\n",
        "|--|--|\n",
        "| airports/PLN | 608 |\n",
        "| airports/PSE | 636 |\n",
        "| airports/SCE | 740 |\n",
        "| ... | ... |"
      ]
    },
    {
      "cell_type": "code",
      "metadata": {
        "id": "d5rG_glBL19A"
      },
      "source": [
        "# This one may not work on the server....\n",
        "cursor = db.aql.execute(\"\"\"\n",
        "  WRITE YOUR AQL QUERY HERE\n",
        "\"\"\")\n",
        "results = [doc for doc in cursor]\n",
        "\n",
        "assert len(results) == 286\n",
        "assert results[0]['departure_time'] == 608\n",
        "assert results[5]['airport'] == 'airports/ACY'\n",
        "assert results[-1]['departure_time'] == 2400"
      ],
      "execution_count": null,
      "outputs": []
    }
  ]
}